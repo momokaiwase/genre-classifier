{
 "cells": [
  {
   "cell_type": "code",
   "execution_count": 11,
   "id": "f741c46a-702d-4cb2-877f-7f112df04eac",
   "metadata": {},
   "outputs": [
    {
     "name": "stdout",
     "output_type": "stream",
     "text": [
      "Defaulting to user installation because normal site-packages is not writeable\n",
      "Requirement already satisfied: lyricsgenius in c:\\users\\perezrt\\appdata\\roaming\\python\\python312\\site-packages (3.6.2)\n",
      "Requirement already satisfied: beautifulsoup4>=4.12.3 in c:\\programdata\\anaconda3\\lib\\site-packages (from lyricsgenius) (4.12.3)\n",
      "Requirement already satisfied: requests>=2.27.1 in c:\\programdata\\anaconda3\\lib\\site-packages (from lyricsgenius) (2.32.2)\n",
      "Requirement already satisfied: soupsieve>1.2 in c:\\programdata\\anaconda3\\lib\\site-packages (from beautifulsoup4>=4.12.3->lyricsgenius) (2.5)\n",
      "Requirement already satisfied: charset-normalizer<4,>=2 in c:\\programdata\\anaconda3\\lib\\site-packages (from requests>=2.27.1->lyricsgenius) (2.0.4)\n",
      "Requirement already satisfied: idna<4,>=2.5 in c:\\programdata\\anaconda3\\lib\\site-packages (from requests>=2.27.1->lyricsgenius) (3.7)\n",
      "Requirement already satisfied: urllib3<3,>=1.21.1 in c:\\programdata\\anaconda3\\lib\\site-packages (from requests>=2.27.1->lyricsgenius) (2.2.2)\n",
      "Requirement already satisfied: certifi>=2017.4.17 in c:\\programdata\\anaconda3\\lib\\site-packages (from requests>=2.27.1->lyricsgenius) (2024.12.14)\n",
      "Note: you may need to restart the kernel to use updated packages.\n"
     ]
    }
   ],
   "source": [
    "pip install lyricsgenius"
   ]
  },
  {
   "cell_type": "code",
   "execution_count": 12,
   "id": "8704ea55-e84d-445e-a22b-16148d60815e",
   "metadata": {},
   "outputs": [
    {
     "ename": "ModuleNotFoundError",
     "evalue": "No module named 'lyricsgenius'",
     "output_type": "error",
     "traceback": [
      "\u001b[1;31m---------------------------------------------------------------------------\u001b[0m",
      "\u001b[1;31mModuleNotFoundError\u001b[0m                       Traceback (most recent call last)",
      "Cell \u001b[1;32mIn[12], line 2\u001b[0m\n\u001b[0;32m      1\u001b[0m \u001b[38;5;66;03m### Sorts songs by genre tag various text documents.\u001b[39;00m\n\u001b[1;32m----> 2\u001b[0m \u001b[38;5;28;01mimport\u001b[39;00m \u001b[38;5;21;01mchart_helper\u001b[39;00m \u001b[38;5;28;01mas\u001b[39;00m \u001b[38;5;21;01mch\u001b[39;00m\n\u001b[0;32m      3\u001b[0m \u001b[38;5;28;01mimport\u001b[39;00m \u001b[38;5;21;01mrequests\u001b[39;00m\n\u001b[0;32m      4\u001b[0m \u001b[38;5;28;01mimport\u001b[39;00m \u001b[38;5;21;01mjson\u001b[39;00m\n",
      "File \u001b[1;32m~\\chart_helper.py:3\u001b[0m\n\u001b[0;32m      1\u001b[0m \u001b[38;5;66;03m### Contains helper functions for making, navigating, and reading song chart rows.\u001b[39;00m\n\u001b[0;32m      2\u001b[0m \u001b[38;5;28;01mfrom\u001b[39;00m \u001b[38;5;21;01mdotenv\u001b[39;00m \u001b[38;5;28;01mimport\u001b[39;00m load_dotenv\n\u001b[1;32m----> 3\u001b[0m \u001b[38;5;28;01mfrom\u001b[39;00m \u001b[38;5;21;01mlyricsgenius\u001b[39;00m \u001b[38;5;28;01mimport\u001b[39;00m Genius\n\u001b[0;32m      4\u001b[0m \u001b[38;5;28;01mimport\u001b[39;00m \u001b[38;5;21;01mcsv\u001b[39;00m\n\u001b[0;32m      5\u001b[0m \u001b[38;5;28;01mimport\u001b[39;00m \u001b[38;5;21;01mos\u001b[39;00m\n",
      "\u001b[1;31mModuleNotFoundError\u001b[0m: No module named 'lyricsgenius'"
     ]
    }
   ],
   "source": [
    "### Sorts songs by genre tag various text documents.\n",
    "import chart_helper as ch\n",
    "import requests\n",
    "import json\n",
    "import os"
   ]
  },
  {
   "cell_type": "code",
   "execution_count": null,
   "id": "25f4a83a-4e1c-4610-82fe-a235e4a02ac2",
   "metadata": {},
   "outputs": [],
   "source": [
    "\n",
    "\n",
    "# Init TheAudioDB API key\n",
    "db_token = os.getenv(523532)\n",
    "# print(db_token)\n",
    "\n",
    "### Given an artist and song, sorts it into respective text files in the genres/ directory\n",
    "def genre_sort(artist, song):\n",
    "    artist_format = artist.replace(' ', '_').lower()\n",
    "    song_format = song.replace(' ', '_').lower()\n",
    "\n",
    "    # Debug\n",
    "    # print(f\"***Artist: {artist}***\")\n",
    "    # print(f\"***Song: {song}***\")\n",
    "\n",
    "    # TheAudioDB API test key\n",
    "    key = db_token\n",
    "\n",
    "    # Searches TheAudioDB for track details from artist & track name\n",
    "    r = requests.get(f'https://www.theaudiodb.com/api/v1/json/{key}/searchtrack.php?s={artist_format}&t={song_format}')\n",
    "    # r = requests.get(f'https://www.theaudiodb.com/api/v1/json/{key}/searchtrack.php?s=Kendrick_Lamar&t=Not_Like_Us')\n",
    "\n",
    "\n",
    "    # Stores JSON result from API request\n",
    "    result = r.text\n",
    "    # print(result)\n",
    "\n",
    "    # Converts JSON result to a Python dictionary\n",
    "    info = json.loads(result)\n",
    "\n",
    "    # Stores the genre of the track from the dictionary\n",
    "    try:\n",
    "        genre = info['track'][0]['strGenre']\n",
    "\n",
    "        # Appends the track name to the respective genre text file\n",
    "        with open(f'genres/{genre}.txt', 'a+', encoding='utf-8') as f:\n",
    "            # Store all songs in the text file currently in a list\n",
    "            f.seek(0, 0)\n",
    "            sorted_songs = f.readlines()\n",
    "\n",
    "            # If the current song is not already sorted, append it to the file\n",
    "            if song + '\\n' in sorted_songs:\n",
    "                print(f'---{song} has already been recorded.---')\n",
    "\n",
    "            else:\n",
    "                f.write(song + '\\n')\n",
    "                print(f'---{song} successfully sorted in {genre}.txt!---')\n",
    "\n",
    "    # TODO: Replace punctuation is song titles; that's probably what's causing this\n",
    "    except:\n",
    "        with open('genres/failed.txt', 'a+', encoding='utf-8') as f:\n",
    "            f.write(song + '\\n')\n",
    "        print(f'---Search for {song} failed.---')\n",
    "\n",
    "### Opens and iterates through song_chart.csv, running genre_sort() on each pair of artist and tracks\n",
    "# Gets all names in song_chart.csv\n"
   ]
  },
  {
   "cell_type": "code",
   "execution_count": null,
   "id": "52edf5f1-cfaf-4d0f-bb03-88b8578788c2",
   "metadata": {},
   "outputs": [],
   "source": []
  },
  {
   "cell_type": "code",
   "execution_count": null,
   "id": "b57eb1a5-47b7-461c-aee2-29efcc44e72b",
   "metadata": {},
   "outputs": [],
   "source": [
    "# Iterate through each row of the DataFrame\n",
    "for index, row in songs422.iterrows():\n",
    "    # Assuming the artist is in the first column and song title is in the third column\n",
    "    artist = row[0]  # First column (artist)\n",
    "    song = row[2]    # Third column (song title)\n",
    "    \n",
    "    # Apply the genre_sort function for each row\n",
    "    genre_sort(artist, song)"
   ]
  }
 ],
 "metadata": {
  "kernelspec": {
   "display_name": "Python 3 (ipykernel)",
   "language": "python",
   "name": "python3"
  },
  "language_info": {
   "codemirror_mode": {
    "name": "ipython",
    "version": 3
   },
   "file_extension": ".py",
   "mimetype": "text/x-python",
   "name": "python",
   "nbconvert_exporter": "python",
   "pygments_lexer": "ipython3",
   "version": "3.12.4"
  }
 },
 "nbformat": 4,
 "nbformat_minor": 5
}
